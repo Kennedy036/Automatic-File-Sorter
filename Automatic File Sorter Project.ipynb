{
 "cells": [
  {
   "cell_type": "markdown",
   "id": "f29c6b92",
   "metadata": {},
   "source": [
    "### Automatic File Sorter in File Explorer"
   ]
  },
  {
   "cell_type": "code",
   "execution_count": null,
   "id": "22286750",
   "metadata": {},
   "outputs": [],
   "source": [
    "import os, shutil #modules for intereacting with the operating system"
   ]
  },
  {
   "cell_type": "code",
   "execution_count": null,
   "id": "56c73c5b",
   "metadata": {},
   "outputs": [],
   "source": [
    "path = r\"C:\\Users\\user\\Documents\\explorer tutorial\" #Initializes the path to the documents in your system"
   ]
  },
  {
   "cell_type": "code",
   "execution_count": null,
   "id": "618326d6",
   "metadata": {},
   "outputs": [],
   "source": [
    "file_name = os.listdir(path)"
   ]
  },
  {
   "cell_type": "code",
   "execution_count": null,
   "id": "14e9a0be",
   "metadata": {},
   "outputs": [],
   "source": [
    "os.path.exists(path + 'xlsx')"
   ]
  },
  {
   "cell_type": "code",
   "execution_count": null,
   "id": "7e757753",
   "metadata": {},
   "outputs": [],
   "source": [
    "folder_names = ['xlsx', 'pdf', 'exe', 'sql', 'jpg', 'zip']\n",
    "for loop in range(0,6):\n",
    "    if not os.path.exists(path + folder_names[loop]):\n",
    "        print(path + folder_names[loop])\n",
    "        os.makedirs(path + folder_names[loop])"
   ]
  },
  {
   "cell_type": "code",
   "execution_count": null,
   "id": "f13a6277",
   "metadata": {},
   "outputs": [],
   "source": [
    "for file in file_name:\n",
    "    if \".xlsx\" in file and not os.path.exists(path + \"xlsx/\" + file):\n",
    "        shutil.move(path + file, path + \"xlsx/\" + file)\n",
    "    elif \".pdf\" in file and not os.path.exists(path + \"pdf/\" + file):\n",
    "        shutil.move(path + file, path + \"pdf/\" + file)\n",
    "    elif \".exe\" in file and not os.path.exists(path + \"exe/\" + file):\n",
    "        shutil.move(path + file, path + \"exe/\" + file)\n",
    "    elif \".sql\" in file and not os.path.exists(path + \"sql/\" + file):\n",
    "        shutil.move(path + file, path + \"sql/\" + file)\n",
    "    elif \".jpg\" in file and not os.path.exists(path + \"jpg/\" + file):\n",
    "        shutil.move(path + file, path + \"jpg/\" + file)\n",
    "    elif \".zip\" in file and not os.path.exists(path + \"zip/\" + file):\n",
    "        shutil.move(path + file, path + \"zip/\" + file)\n",
    "    else:\n",
    "        print('file not moved')"
   ]
  },
  {
   "cell_type": "code",
   "execution_count": null,
   "id": "ba833a8c",
   "metadata": {},
   "outputs": [],
   "source": []
  }
 ],
 "metadata": {
  "kernelspec": {
   "display_name": "Python 3 (ipykernel)",
   "language": "python",
   "name": "python3"
  },
  "language_info": {
   "codemirror_mode": {
    "name": "ipython",
    "version": 3
   },
   "file_extension": ".py",
   "mimetype": "text/x-python",
   "name": "python",
   "nbconvert_exporter": "python",
   "pygments_lexer": "ipython3",
   "version": "3.11.3"
  }
 },
 "nbformat": 4,
 "nbformat_minor": 5
}
